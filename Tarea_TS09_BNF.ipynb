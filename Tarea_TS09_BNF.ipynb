{
  "nbformat": 4,
  "nbformat_minor": 0,
  "metadata": {
    "colab": {
      "name": "Tarea_TS09_BNF.ipynb",
      "provenance": [],
      "collapsed_sections": [],
      "include_colab_link": true
    },
    "kernelspec": {
      "name": "python3",
      "display_name": "Python 3"
    },
    "language_info": {
      "name": "python"
    }
  },
  "cells": [
    {
      "cell_type": "markdown",
      "metadata": {
        "id": "view-in-github",
        "colab_type": "text"
      },
      "source": [
        "<a href=\"https://colab.research.google.com/github/bnf99/FiscaComputacional1/blob/main/Tarea_TS09_BNF.ipynb\" target=\"_parent\"><img src=\"https://colab.research.google.com/assets/colab-badge.svg\" alt=\"Open In Colab\"/></a>"
      ]
    },
    {
      "cell_type": "markdown",
      "metadata": {
        "id": "CvwOsgcQvVhQ"
      },
      "source": [
        "# Tarea semana 9: Ecuaciones Diferenciales Parciales.\n",
        "## IF4702 - Física computacional 1 \n",
        "\n",
        "### Profesores:\n",
        "> Álvaro Amador Jara\n",
        "\n",
        "> José Esteban Pérez Hidalgo  \n",
        "\n",
        "### Estudiante:\n",
        "> Bryam Gerardo Núñez Flores (2018111986)\n",
        "\n",
        "### Repositorio:\n",
        "> [github.com/bnf99/FiscaComputacional1](https://github.com/bnf99/FiscaComputacional1)\n",
        "\n",
        "### Por cuestiones de formato se recomienda revisar este documento desde el repositorio en Github, Google Collab (se conecta directamente desde el repositorio) o un lector de documentos .ipynb. "
      ]
    },
    {
      "cell_type": "markdown",
      "metadata": {
        "id": "6GcwhIQ3v-K-"
      },
      "source": [
        "# Descripción de la tarea:\n",
        "\n",
        "Para la semana 09 del curso, se han cubierto cuatro grandes métodos para obtener la solución numérica de ecuaciones diferenciales parciales (EDP). En particular, los métodos de separación de variables, series de Fourier y diferencias finitas pueden ser aplicados de una forma muy directa, por lo que son excelentes opciones para llevar a cabo dicha labor.\n",
        "\n",
        "Considere la ecuación de difusión en una dimensión, que se puede ser escrita como:\n",
        "\n",
        "$$ \\frac{\\partial \\rho(x,t)}{\\partial t} = D\\frac{\\partial^{2}\\rho(x,t)}{\\partial^{2} x}$$\n",
        "\n",
        "Para resolver dicha EDP, se proponen las siguientes condiciones de contorno:\n",
        "\n",
        "> $\\rho(0,t)=\\rho(L_{x},t)=0$\n",
        "\n",
        "> $ \\rho(x,0)=Ae^{-\\frac{(x-x_{0})^{2}}{l}}$\n",
        "\n",
        "Para completar esta tarea debe escoger dos de los métodos indicados (separación de variables, series de Fourier o diferencias finitas) y generar las soluciones respectivas, utilizando que: $D=0,5$, $L_{x}=10,0$, $A=2,0$, $x_{0}=5,0$, $l=1,5$.\n",
        "\n",
        "La solución numérica, para cada método escogido, debe ser presentada como uno o\n",
        "varios gráficos, tanto en función de x como en función de t, en los que se observe el efecto que tienen parámetros propios del cálculo numérico de los métodos escogidos, si es que fuesen requeridos."
      ]
    },
    {
      "cell_type": "code",
      "metadata": {
        "id": "FXjHpukCTuji"
      },
      "source": [
        "\"\"\"\n",
        "Librerías\n",
        "\"\"\"\n",
        "import numpy as np\n",
        "import pandas as pd\n",
        "import scipy.integrate as integrar\n",
        "import matplotlib.pyplot as plt\n",
        "import plotly.graph_objects as go\n",
        "import plotly.express as px"
      ],
      "execution_count": 102,
      "outputs": []
    },
    {
      "cell_type": "code",
      "metadata": {
        "id": "jQhPPOg9v8e4"
      },
      "source": [
        "\"\"\"\n",
        "Parámetros del problema \n",
        "\"\"\"\n",
        "D = 0.5\n",
        "Lx = 10\n",
        "A = 2\n",
        "x0 = 5\n",
        "l = 1.5\n",
        "\n",
        "\"\"\"\n",
        "Parámetros simulación\n",
        "\"\"\"\n",
        "pMalla = 100 # N*N da la cantidad de puntos del mallado \n",
        "n_serie = 30 # n da la cantidad de términos de la serie de Fourier\n",
        "iter= 30 # número de iteraciones en diferencias finitas\n",
        "Lt = 1 # longitud espacial.\n",
        "\n",
        "\"\"\"\n",
        "Mallado\n",
        "\"\"\"\n",
        "x = np.linspace(0,Lx,pMalla)\n",
        "t = np.linspace(0,Lt,pMalla)\n",
        "X,T = np.meshgrid(x,t)\n"
      ],
      "execution_count": 104,
      "outputs": []
    },
    {
      "cell_type": "markdown",
      "metadata": {
        "id": "tF3dDxOuzftV"
      },
      "source": [
        "# Método 1: Series de Fourier.\n",
        "\n",
        "## Deducción:\n",
        "\n",
        "Tenemos la ecuación:\n",
        " \n",
        "$$\\frac{\\partial \\rho(x,t)}{\\partial t} = D\\frac{\\partial^{2}\\rho(x,t)}{\\partial^{2} x}$$\n",
        "\n",
        "con:\n",
        "\n",
        "> $\\rho(0,t)=\\rho(L_{x},t)=0$\n",
        "\n",
        "> $ \\rho(x,0)=Ae^{\\frac{-(x-x_{0})^{2}}{l}}$\n",
        "\n",
        "Dicha ecuación la podemos expresar de la forma más general de la siguiente forma:\n",
        "\n",
        "$$\\nabla^{2} \\rho=\\frac{1}{D}\\frac{\\partial \\rho}{\\partial t}$$\n",
        "\n",
        "Si utilizamos el método de separación de variables de la forma:\n",
        "\n",
        "$$\\rho(x,t)=X(x)T(t)$$\n",
        "\n",
        "Tenemos:\n",
        "\n",
        "$$T \\frac{d^{2}X}{dx^{2}}=\\frac{X}{D}\\frac{d T}{d t}$$\n",
        "\n",
        "Reordenando:\n",
        "\n",
        "$$\\frac{1}{X}\\frac{d^{2}X}{dx^{2}}=\\frac{1}{DT}\\frac{d T}{d t}=-k^{2}$$\n",
        "\n",
        "De esta forma tenemos dos ecuaciones independientes la una de la otra por lo que:\n",
        "\n",
        "1. $\\frac{1}{DT}\\frac{d T}{d t}=-k^{2}$\n",
        "\n",
        "2. $\\frac{1}{X}\\frac{d^{2}X}{dx^{2}}=-k^{2}$\n",
        "\n",
        "De la primera ecuación tenemos:\n",
        "\n",
        "$$\\frac{dT}{T}=-k^{2}Ddt$$\n",
        "\n",
        "$$ln\\left| T \\right| = -k^{2}Dt+C$$\n",
        "\n",
        "$$T=c_{3}e^{ -k^{2}Dt}$$\n",
        "\n",
        "De la segunda ecuación tenemos:\n",
        "\n",
        "$$\\frac{d^{2}X}{dx^{2}}+k^{2}X=0$$\n",
        "\n",
        "La solución de dicha ecuación es conocida y tienen la forma:\n",
        "\n",
        "$$X=c_{1}cos(kx)+c_{2}sen(kx)$$\n",
        "\n",
        "Por ende:\n",
        "\n",
        "$$\\rho(x,t)=XT=c_{1}c_{3}e^{-k^{2}Dt}cos(kx)+c_{2}c_{3}e^{-k^{2}Dt}sen(kx)$$\n",
        "\n",
        "$$\\rho(x,t)=XT=ae^{-k^{2}Dt}cos(kx)+be^{-k^{2}Dt}sen(kx)$$\n",
        "\n",
        "Donde:\n",
        "\n",
        "> $c_{1}c_{3}=a$\n",
        "\n",
        "> $c_{2}c_{3}=b$\n",
        "\n",
        "Evaluando en $\\rho(0,t)=0$ tenemos:\n",
        "\n",
        "$$\\rho(0,t)=ae^{-k^{2}Dt}cos(0)+be^{-k^{2}Dt}sen(0)=0$$\n",
        "\n",
        "$$ae^{-k^{2}Dt}cos(0)=0$$\n",
        "\n",
        "$$\\Rightarrow a = 0$$\n",
        "\n",
        "Esto nos lleva a:\n",
        "\n",
        "$$\\rho(x,t)=be^{-k^{2}Dt}sen(kx)$$\n",
        "\n",
        "Evaluando en $\\rho(L_{x},t)=0$ se llega a:\n",
        "\n",
        "$$\\rho(L_{x},t)=be^{-k^{2}Dt}sen(kL_{x})=0$$\n",
        "\n",
        "$$\\Rightarrow kL_{x}=n\\pi$$\n",
        "\n",
        "$$\\Rightarrow k=\\frac{n\\pi}{L_{x}}$$\n",
        "\n",
        "Por ende:\n",
        "\n",
        "$$\\rho(x,t)=\\sum_{n=1}^{\\infty }b_{n}e^{-\\left(\\frac{n\\pi}{L_{x}}\\right)^{2}Dt}sen\\left(\\frac{n\\pi x}{L_{x}}\\right)$$\n",
        "\n",
        "Para encontrar el valor de $b_{n}$ utilizamos la condición inicial $\\rho(x,0)=Ae^{-\\frac{(x-x_{0})^{2}}{l}}$ de la forma:\n",
        "\n",
        "$$\\rho(x,0)=\\sum_{n=1}^{\\infty }b_{n}sen\\left(\\frac{n\\pi x}{L_{x}}\\right)$$\n",
        "\n",
        "$$Ae^{-\\frac{(x-x_{0})^{2}}{l}}=\\sum_{n=1}^{\\infty }b_{n}sen\\left(\\frac{n\\pi x}{L_{x}}\\right)$$\n",
        "\n",
        "$$\\Rightarrow b_{n}=\\frac{2}{L_{x}}\\int_{0}^{L_{x}}Ae^{\\frac{-(x-x_{0})^{2}}{l}}sen\\left(\\frac{n\\pi x}{L_{x}}\\right)dx $$\n",
        "\n",
        "## Resumen:\n",
        "\n",
        "### Se tiene:\n",
        "\n",
        "$$\\frac{\\partial \\rho(x,t)}{\\partial t} = D\\frac{\\partial^{2}\\rho(x,t)}{\\partial^{2} x}$$\n",
        "\n",
        "con:\n",
        "\n",
        "> $\\rho(0,t)=\\rho(L_{x},t)=0$\n",
        "\n",
        "> $ \\rho(x,0)=Ae^{\\frac{-(x-x_{0})^{2}}{l}}$\n",
        "\n",
        "### Por lo tanto:\n",
        "\n",
        "$$\\rho(x,t)=\\sum_{n=1}^{\\infty }b_{n}e^{-\\left(\\frac{n\\pi}{L_{x}}\\right)^{2}Dt}sen\\left(\\frac{n\\pi x}{L_{x}}\\right)$$\n",
        "\n",
        "con:\n",
        "$$b_{n}=\\frac{2}{L_{x}}\\int_{0}^{L_{x}}Ae^{\\frac{-(x-x_{0})^{2}}{l}}sen\\left(\\frac{n\\pi x}{L_{x}}\\right)dx $$\n",
        "\n",
        "\n",
        "\n",
        "\n",
        "\n",
        "\n",
        "\n"
      ]
    },
    {
      "cell_type": "markdown",
      "metadata": {
        "id": "GuT28fyjC1UY"
      },
      "source": [
        "## Pseudocódigo:\n",
        "1. Se establece los parámetros del problema (brindados en el enunciado de la tarea) y los parámetros de la simulación (cantidad de puntos del mallado, cantidad de tiempo a evaluar y cantidad de términos de la serie a evaluar).\n",
        "\n",
        "2. Se define una función que permita evaluar la función a integrar para el cálculo del coeficiente bn.\n",
        "\n",
        "3. Se crea una función que calcula el coeficiente bn.\n",
        "\n",
        "4. Se crea una función que aproxima el valor de rho para un punto (x,t) con n términos de la serie de Fourier.\n",
        "\n",
        "5. Se establece el mallado y se evaluan los valores aproximados \n",
        "\n",
        "6. Se genera una visualización en 3D de los resultados obtenidos.\n",
        "\n",
        "7. Se crea una visualización en 2D de los resultados obtenidos por medio de superficies de contorno.\n",
        "\n"
      ]
    },
    {
      "cell_type": "code",
      "metadata": {
        "id": "0jzbmeTyV24N"
      },
      "source": [
        "def FuncionAIntegrar(x,n,Lx,x0):\n",
        "  \"\"\"\n",
        "  Función que define la función a integrar para el cálculo de bn\n",
        "  -------------------------\n",
        "  Parámetros de entrada:\n",
        "  x:valores del eje x donde se realiza la integración \n",
        "  n: valor n-ésimo de la serie de Fourier.\n",
        "  Lx: valor máximo de x.\n",
        "  x0: valor de x donde se centra la distribución original. \n",
        "  ------------------------\n",
        "  Parámetros de salida:\n",
        "  fn: función a integrar para el cálculo de bn\n",
        "  \"\"\"\n",
        "  c = -1/l*(x-x0)**2\n",
        "  fn = np.sin(n*np.pi*x/Lx)*np.exp(c)\n",
        "  return fn"
      ],
      "execution_count": 105,
      "outputs": []
    },
    {
      "cell_type": "code",
      "metadata": {
        "id": "fDzs2vRKWtXR"
      },
      "source": [
        "def Coef_bn(n,Lx,x0,A,l):\n",
        "  \"\"\"\n",
        "  Función que realiza el cálculo de bn\n",
        "  -------------------------\n",
        "  Parámetros de entrada:\n",
        "  n: valor n-ésimo de la serie de Fourier.\n",
        "  Lx: valor máximo de x.\n",
        "  x0: valor de x donde se centra la distribución original. \n",
        "  A: amplitud inicial de la distribución original.\n",
        "  l: valor propio del problema establecido en la distribución original.\n",
        "  ------------------------\n",
        "  Parámetros de salida:\n",
        "  bn: valor del coeficiente bn.\n",
        "  \"\"\"\n",
        "  c = 2*A/Lx\n",
        "  bn =c*integrar.quad(FuncionAIntegrar,0,Lx,args=(n,Lx,x0))[0]\n",
        "  return bn"
      ],
      "execution_count": 107,
      "outputs": []
    },
    {
      "cell_type": "code",
      "metadata": {
        "id": "aDeDwBlr9RPD"
      },
      "source": [
        "def Rho_aprox (x,t,n_serie,D,Lx,A,x0,l):\n",
        "  \"\"\"\n",
        "  Función que aproxima el valor de rho para un punto dado\n",
        "  -------------------------\n",
        "  Parámetros de entrada:\n",
        "  x: valores del eje x donde se aproximan los valores de rho\n",
        "  t: valores del tiempo donde se aproximan los valores de rho  \n",
        "  n_serie: cantidad de terminos de la serie de Fourier a utilizar.\n",
        "  D: coeficiente de difusión. \n",
        "  Lx: valor máximo de x.\n",
        "  A: amplitud inicial de la distribución original.\n",
        "  x0: valor de x donde se centra la distribución original. \n",
        "  l: valor propio del problema establecido en la distribución original.\n",
        "  ------------------------\n",
        "  Parámetros de salida:\n",
        "  rho_aprox: valor aproximado de rho para un punto (x,t)\n",
        "  \"\"\"\n",
        "  rho_aprox = 0\n",
        "  for n in range(1,n_serie+1):\n",
        "    c1 = n*np.pi/Lx\n",
        "    c2 = (n*np.pi)**2/Lx**2\n",
        "    rho_aprox += Coef_bn(n,Lx,x0,A,l)*np.sin(c1*x)*np.exp(-c2*D*t)\n",
        "  return rho_aprox"
      ],
      "execution_count": 108,
      "outputs": []
    },
    {
      "cell_type": "code",
      "metadata": {
        "id": "SGVfKZqte4SU"
      },
      "source": [
        "rho_series = Rho_aprox(X,T,n_serie,D,Lx,A,x0,l) # se evalua"
      ],
      "execution_count": 121,
      "outputs": []
    },
    {
      "cell_type": "code",
      "metadata": {
        "id": "3x6Qo20inwU-"
      },
      "source": [
        "\"\"\"\n",
        "Representación en 3D de los resultados.\n",
        "\"\"\"\n",
        "df1 = pd.DataFrame(rho_series,index=x,columns=t)\n",
        "fig = go.Figure(data=[go.Surface(z=df1.values)])\n",
        "fig.update_layout(scene = dict(\n",
        "                    xaxis_title='x [m]',\n",
        "                    yaxis_title='t [s]',\n",
        "                    zaxis_title='Rho'),\n",
        "                    width=700,\n",
        "                    margin=dict(r=20, b=10, l=10, t=10))\n",
        "fig.update_layout(title='Rho(x,t)', autosize=True,\n",
        "                  width=500, height=500,\n",
        "                  margin=dict(l=65, r=50, b=65, t=90))\n",
        "\n",
        "fig.show()"
      ],
      "execution_count": null,
      "outputs": []
    },
    {
      "cell_type": "code",
      "metadata": {
        "id": "fLHj3Kl1MqQi"
      },
      "source": [
        "\"\"\"\n",
        "Representación en 2D por medio de superficies de contorno.\n",
        "\"\"\"\n",
        "fig = plt.figure(dpi = 120,)\n",
        "plt.xlabel(\"t [s]\")\n",
        "plt.ylabel(\"x [m]\")\n",
        "plt.scatter(T,X,c=rho_series,cmap=\"jet\")\n",
        "plt.colorbar(label=\"Magnitud de Rho\")\n",
        "plt.show()"
      ],
      "execution_count": null,
      "outputs": []
    },
    {
      "cell_type": "markdown",
      "metadata": {
        "id": "XCYggs8Jz4fR"
      },
      "source": [
        "# Método 2: Diferencias finitas.\n",
        "\n",
        "## Deducción:\n",
        "\n",
        "Tenemos la ecuación:\n",
        " \n",
        "$$\\frac{\\partial \\rho(x,t)}{\\partial t} = D\\frac{\\partial^{2}\\rho(x,t)}{\\partial^{2} x}$$\n",
        "\n",
        "con:\n",
        "\n",
        "> $\\rho(0,t)=\\rho(L_{x},t)=0$\n",
        "\n",
        "> $ \\rho(x,0)=Ae^{\\frac{-(x-x_{0})^{2}}{l}}$\n",
        "\n",
        "Dicha ecuación la podemos expresar de la forma:\n",
        " \n",
        "$$\\frac{\\partial^{2}\\rho(x,t)}{\\partial^{2} x}=\\frac{1}{D}\\frac{\\partial \\rho}{\\partial t}$$\n",
        "\n",
        "Si utilizamos series de Taylor de orden 2 para la parte espcial tenemos se tiene:\n",
        "\n",
        "$$\\rho(x+\\Delta x,t)=\\rho(x,t)+\\frac{\\partial \\rho}{\\partial x}\\Delta x+\\frac{1}{2}\\frac{\\partial^{2}\\rho }{\\partial x^{2}}+...$$\n",
        "\n",
        "$$\\rho(x-\\Delta x,t)=\\rho(x,t)-\\frac{\\partial \\rho}{\\partial x}\\Delta x+\\frac{1}{2}\\frac{\\partial^{2} \\rho}{\\partial x^{2}}+...$$\n",
        "\n",
        "Si sumamos las ecuaciones tenemos:\n",
        "\n",
        "$$\\frac{\\partial^{2}\\rho}{\\partial x^{2}}= \\frac{\\rho(x+\\Delta x,t)+\\rho(x-\\Delta x,t)-2\\rho(x,t)}{\\Delta x^{2}} $$\n",
        "\n",
        "Utilizando series de Taylor de orden 1 para la parte temporal tenemos:\n",
        "\n",
        "$$\\rho(x,t+\\Delta t) = \\rho(x,t) + \\frac{\\partial \\rho}{\\partial t}\\Delta t$$\n",
        "\n",
        "$$\\Rightarrow \\frac{\\partial \\rho}{\\partial t}=\\frac{\\rho(x,t+\\Delta t)-\\rho(x,t)}{\\Delta t}$$\n",
        "\n",
        "De esta forma si convinamos ambas relaciones llegamos a:\n",
        "\n",
        "$$\\frac{\\rho(x+\\Delta x,t)+\\rho(x-\\Delta x,t)-2\\rho(x,t)}{\\Delta x^{2}}=\\frac{1}{D}\\frac{\\rho(x,t+\\Delta t)-\\rho(x,t)}{\\Delta t}$$\n",
        "\n",
        "Simplificando y utilizando $\\phi=\\frac{D\\Delta t}{\\Delta x^{2}}$ se llega a:\n",
        "\n",
        "$$\\rho(x,t+\\Delta t) = \\phi[\\rho(x+\\Delta x,t)+\\rho(x-\\Delta x,t)]+(1-2\\phi)\\rho(x,t)$$\n",
        "\n",
        "De forma matricial se tiene:\n",
        "\n",
        "## Resumen:\n",
        "\n",
        "$$\\rho_{i,k+1} = \\phi[\\rho_{i+1,k}+\\rho_{i-1,k}]+(1-2\\phi)\\rho_{i,k}$$\n"
      ]
    },
    {
      "cell_type": "code",
      "metadata": {
        "id": "UKo4505wytkX"
      },
      "source": [
        "def Rho_0 (x,A,x0,l):\n",
        "  \"\"\"\n",
        "  Función que define calcula los valores rho en t = 0\n",
        "  -------------------------\n",
        "  Parámetros de entrada:\n",
        "  x:valores del eje x donde se realiza la integración \n",
        "  A: amplitud inicial de la distribución original.\n",
        "  x0: valor de x donde se centra la distribución original. \n",
        "  l: valor propio del problema establecido en la distribución original.\n",
        "  ------------------------\n",
        "  Parámetros de salida:\n",
        "  rho: valores de rho evaluados en (x,0)\n",
        "  \"\"\"\n",
        "  rho = A*np.exp(-1*(x-x0)**2/l)\n",
        "  return rho"
      ],
      "execution_count": 128,
      "outputs": []
    },
    {
      "cell_type": "code",
      "metadata": {
        "id": "vkuO5MP9Vgt8"
      },
      "source": [
        "def Rho_dif_finitas(x,A,x0,l,D,Lx,Lt,pMalla):\n",
        "  \"\"\"\n",
        "  Función que aproxima el valor de rho por medio de diferencias finitas\n",
        "  -------------------------\n",
        "  Parámetros de entrada:\n",
        "  x: valores del eje x donde se aproximan los valores de rho en t = 0\n",
        "  A: amplitud inicial de la distribución original.\n",
        "  x0: valor de x donde se centra la distribución original. \n",
        "  l: valor propio del problema establecido en la distribución original.\n",
        "  D: coeficiente de difusión. \n",
        "  Lx: valor máximo de x.\n",
        "  Lt: valor máximo de t.\n",
        "  pMalla: número que determina la cantidad de puntos del mallado.\n",
        "  ------------------------\n",
        "  Parámetros de salida:\n",
        "  malla: matriz con los valores aproximadod de rho para un punto (x,t) \n",
        "  \"\"\"\n",
        "  delta_t = Lt/pMalla\n",
        "  delta_x = Lx/pMalla\n",
        "  phi = D*delta_t/(delta_x**2)\n",
        "  malla = np.zeros((pMalla,pMalla))\n",
        "  malla[0] = Rho_0(x,A,x0,l)\n",
        "  for i in range(0,pMalla-1):\n",
        "    for j in range(1,pMalla-1):\n",
        "      malla[i+1,j] = phi*(malla[i,j+1]+malla[i,j-1])+(1-2*phi)*malla[i,j]\n",
        "  \n",
        "  return malla"
      ],
      "execution_count": 129,
      "outputs": []
    },
    {
      "cell_type": "code",
      "metadata": {
        "id": "zY-S8uvcaIEa"
      },
      "source": [
        "rho_finitas = Rho_dif_finitas(x,A,x0,l,D,Lx,Lt,pMalla) #se evalua "
      ],
      "execution_count": 130,
      "outputs": []
    },
    {
      "cell_type": "code",
      "metadata": {
        "id": "ZO81ixX9gRMp"
      },
      "source": [
        "\"\"\"\n",
        "Representación en 3D de los resultados.\n",
        "\"\"\"\n",
        "df2 = pd.DataFrame(rho_finitas,index=x,columns=t)\n",
        "fig = go.Figure(data=[go.Surface(z=df2.values)])\n",
        "fig.update_layout(scene = dict(\n",
        "                    xaxis_title='x [m]',\n",
        "                    yaxis_title='t [s]',\n",
        "                    zaxis_title='Rho'),\n",
        "                    width=700,\n",
        "                    margin=dict(r=20, b=10, l=10, t=10))\n",
        "fig.update_layout(title='Rho(x,t)', autosize=True,\n",
        "                  width=500, height=500,\n",
        "                  margin=dict(l=65, r=50, b=65, t=90))\n",
        "\n",
        "fig.show()"
      ],
      "execution_count": null,
      "outputs": []
    },
    {
      "cell_type": "code",
      "metadata": {
        "id": "P2fGagWqdlfr"
      },
      "source": [
        "\"\"\"\n",
        "Representación en 2D por medio de superficies de contorno.\n",
        "\"\"\"\n",
        "fig = plt.figure(dpi = 120,)\n",
        "plt.xlabel(\"t [s]\")\n",
        "plt.ylabel(\"x [m]\")\n",
        "plt.scatter(T,X,c=rho_finitas,cmap=\"jet\")\n",
        "plt.colorbar(label=\"Magnitud de Rho\")\n",
        "plt.show()"
      ],
      "execution_count": null,
      "outputs": []
    }
  ]
}