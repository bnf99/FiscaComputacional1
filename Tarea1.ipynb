{
  "nbformat": 4,
  "nbformat_minor": 0,
  "metadata": {
    "colab": {
      "name": "Tarea1.ipynb",
      "provenance": [],
      "authorship_tag": "ABX9TyPIMdcbTNJK4+vE5PsDlIVb",
      "include_colab_link": true
    },
    "kernelspec": {
      "name": "python3",
      "display_name": "Python 3"
    }
  },
  "cells": [
    {
      "cell_type": "markdown",
      "metadata": {
        "id": "view-in-github",
        "colab_type": "text"
      },
      "source": [
        "<a href=\"https://colab.research.google.com/github/bnf99/FiscaComputacional1/blob/main/Tarea1.ipynb\" target=\"_parent\"><img src=\"https://colab.research.google.com/assets/colab-badge.svg\" alt=\"Open In Colab\"/></a>"
      ]
    },
    {
      "cell_type": "markdown",
      "metadata": {
        "id": "O63KP4AZcZa7"
      },
      "source": [
        "# Tarea semana 2: Intergración y Derivación Numérica.\n",
        "## IF4702 - Física computacional 1 \n",
        "\n",
        "### Profesores:\n",
        "> José Esteban Pérez Hidalgo  \n",
        "> Álvaro Amador Jara\n",
        "\n",
        "### Estudiante:\n",
        "> Bryam Gerardo Núñez Flores (2018111986)\n",
        "\n",
        "### Repositorio:\n",
        "> [github.com/bnf99/FiscaComputacional1](https://github.com/bnf99/FiscaComputacional1)\n"
      ]
    },
    {
      "cell_type": "code",
      "metadata": {
        "id": "KuNHBIeVXvf6"
      },
      "source": [
        "import numpy as np\n",
        "import pandas as pd\n",
        "import scipy as spy\n",
        "import matplotlib.pyplot as plt\n"
      ],
      "execution_count": 12,
      "outputs": []
    },
    {
      "cell_type": "markdown",
      "metadata": {
        "id": "T7Tby4G7kfiG"
      },
      "source": [
        "# 1. Calcular el desplazamiento de un objeto por integración numérica.\n",
        "\n",
        "> a) Escriba, en pseudocódigo, el procedimiento para implementar alguna de las\n",
        "reglas integrales de Newton-Cotes sobre una función general f(x).\n",
        "\n",
        "> b) Programe el código respectivo en Python y utilícelo para encontrar el desplazamiento de un móvil, que se mueve en línea recta, entre en el intervalo\n",
        "de tiempo [0 s, 100 s]. Considere que el móvil se mueve con aceleración\n",
        "constante, que en t = 0.0 s lleva una rapidez de 0.5 m/s y que en t = 100.0 s\n",
        "su rapidez es 1.0 m/s.\n",
        "\n",
        "> c) Defina cinco juegos diferentes de parámetros para el cálculo numérico y en\n",
        "una tabla muestre estos parámetros y los resultados que generan. Finalmente, identifique los parámetros del cálculo numérico de tal manera que\n",
        "la incertidumbre del valor reportado sea menor a un 1 % del valor exacto.\n",
        "\n",
        "## Pseudocódigo \n",
        "\n",
        "Se desea implementar la regla del trapecio como método de análisis numérico (regla integral de Newton-Cotes) que permita aproximar el valor de una integral de la forma:\n",
        "\n",
        "$$\\int_{a}^{b}f(x)dx \\approx\\sum_{k=1}^{N}\\frac{f(x_{k-1})+f(x_{k})}{2}\\Delta x_{k}$$\n",
        "\n",
        "Específicamente lo que se busca implementar es:\n",
        "\n",
        "$$x(100s)=\\int_{0}^{100s}v(t)dt=\\int_{0}^{100s}(at+v_{0})dt\\approx\\sum_{k=1}^{N}\\frac{v(t_{k-1})+v(t_{k})}{2}\\Delta t_{k}$$\n",
        "Para esto es necesario:\n",
        "\n",
        "> Definir una función que permita evaluar $v(t_{k})$, esta función recivirá las condicones iniciales del problema y devolvera el valor de $v$ evaluado en un $t_{k}$\n",
        "> Luego se define una función que aplique el método del trapecio donde se recive como parámetros: las condiciones iniciales del problema, la longitud de los intervalos de tiempo y el valor verdadero de la distancia. Dentro de esta función se llevará acabo lo siguiente:\n",
        "\n",
        ">> Generar un array unidimensional con valores equiespaciados que empiece en $0s$, termine en $100s$ y tenga $h$ de separación entre valores.\n",
        "\n",
        ">> Con estos valores se genera una lista donde se guarden los puntos $(t,v(t))$, donde $v(t)$ se obtiene por la función previamenten definida.\n",
        "\n",
        ">> Implementar el método del trapecio con los datos guardados en la lista\n",
        "\n",
        ">> Calcular el error dado un valor verdadero.\n",
        "\n",
        "> Por último se devuelve el valor aproximado de la distancia y el error.\n",
        "\n",
        "Como segunda parte del código evaluan 5 valores de $N$ para ingresarlos en un pandas DataFrame y generar así una tabla.\n",
        "\n",
        "\n"
      ]
    },
    {
      "cell_type": "code",
      "metadata": {
        "id": "yDwlbf2htSmO"
      },
      "source": [
        "def Velocidad(t,t_inicial,t_final,v_inicial,v_final):\n",
        "  \"\"\"\n",
        "  Esta función da la velocidad para un tiempo t dada las condiciones iniciales\n",
        "  \"\"\"\n",
        "  deltaVel = v_final-v_inicial\n",
        "  deltaT = t_final-t_inicial \n",
        "  aceleracion = deltaVel/deltaT\n",
        "  vel_t = aceleracion*t + v_inicial\n",
        "  return vel_t  "
      ],
      "execution_count": 107,
      "outputs": []
    },
    {
      "cell_type": "code",
      "metadata": {
        "id": "RwaGe6u27yup"
      },
      "source": [
        "def AproximacionTrapecio(t,h,t_inicial,t_final,v_inicial,v_final,valorVerdadero):\n",
        "  \"\"\"\n",
        "  Esta función da el valor aproximado y el error del método del\n",
        "  trapecio cuando se utiliza para averiguar la distancia recorrida por un objeto\n",
        "  en MRUA cuando se especifícan las condiciones iniciales\n",
        "  \"\"\"\n",
        "  listaDatosTrapecio = []\n",
        "  tiempo = np.arange(t_inicial,t_final,h)\n",
        "\n",
        "  for i_t in range(len(tiempo)):\n",
        "    listaDatosTrapecio.append([tiempo[i_t],Velocidad(tiempo[i_t],t_inicial,t_final,v_inicial,v_final)])\n",
        "  arrayDatosTrapecio = np.array(listaDatosTrapecio)\n",
        "\n",
        "  area = 0\n",
        "  for i_dato in range(1,len(arrayDatosTrapecio)):\n",
        "    dt = arrayDatosTrapecio[i_dato,0]-arrayDatosTrapecio[i_dato-1,0]\n",
        "    v_prom = (arrayDatosTrapecio[i_dato,1]+arrayDatosTrapecio[i_dato-1,1])/2\n",
        "    area += dt*v_prom\n",
        "  diferencia = valorVerdadero-area\n",
        "  errorPorcentual = (diferencia/valorVerdadero)*100\n",
        "  return area, errorPorcentual\n",
        "\n"
      ],
      "execution_count": 108,
      "outputs": []
    },
    {
      "cell_type": "code",
      "metadata": {
        "colab": {
          "base_uri": "https://localhost:8080/",
          "height": 201
        },
        "id": "1tPg0GhpNufW",
        "outputId": "7399d836-8930-431f-e846-c033f999feab"
      },
      "source": [
        "a1 = AproximacionTrapecio(100,2,0,100,0.5,1,75)\n",
        "a2 = AproximacionTrapecio(100,1,0,100,0.5,1,75)\n",
        "a3 = AproximacionTrapecio(100,0.1,0,100,0.5,1,75)\n",
        "a4 = AproximacionTrapecio(100,0.01,0,100,0.5,1,75)\n",
        "a5 = AproximacionTrapecio(100,0.001,0,100,0.5,1,75)\n",
        "tabla = [[a1[0],a1[1]],[a2[0],a2[1]],[a3[0],a3[1]],[a4[0],a4[1]],[a5[0],a5[1]]]\n",
        "pd.DataFrame(tabla,index=[\"h = 2\",\"h = 1\",\"h = 0.1\",\"h = 0.01\",\"h = 0.001\"], columns=[\"Distancia [m]\", \"%error\"])"
      ],
      "execution_count": 109,
      "outputs": [
        {
          "output_type": "execute_result",
          "data": {
            "text/html": [
              "<div>\n",
              "<style scoped>\n",
              "    .dataframe tbody tr th:only-of-type {\n",
              "        vertical-align: middle;\n",
              "    }\n",
              "\n",
              "    .dataframe tbody tr th {\n",
              "        vertical-align: top;\n",
              "    }\n",
              "\n",
              "    .dataframe thead th {\n",
              "        text-align: right;\n",
              "    }\n",
              "</style>\n",
              "<table border=\"1\" class=\"dataframe\">\n",
              "  <thead>\n",
              "    <tr style=\"text-align: right;\">\n",
              "      <th></th>\n",
              "      <th>Distancia [m]</th>\n",
              "      <th>%error</th>\n",
              "    </tr>\n",
              "  </thead>\n",
              "  <tbody>\n",
              "    <tr>\n",
              "      <th>h = 2</th>\n",
              "      <td>73.010000</td>\n",
              "      <td>2.653333</td>\n",
              "    </tr>\n",
              "    <tr>\n",
              "      <th>h = 1</th>\n",
              "      <td>74.002500</td>\n",
              "      <td>1.330000</td>\n",
              "    </tr>\n",
              "    <tr>\n",
              "      <th>h = 0.1</th>\n",
              "      <td>74.900025</td>\n",
              "      <td>0.133300</td>\n",
              "    </tr>\n",
              "    <tr>\n",
              "      <th>h = 0.01</th>\n",
              "      <td>74.990000</td>\n",
              "      <td>0.013333</td>\n",
              "    </tr>\n",
              "    <tr>\n",
              "      <th>h = 0.001</th>\n",
              "      <td>74.999000</td>\n",
              "      <td>0.001333</td>\n",
              "    </tr>\n",
              "  </tbody>\n",
              "</table>\n",
              "</div>"
            ],
            "text/plain": [
              "           Distancia [m]    %error\n",
              "h = 2          73.010000  2.653333\n",
              "h = 1          74.002500  1.330000\n",
              "h = 0.1        74.900025  0.133300\n",
              "h = 0.01       74.990000  0.013333\n",
              "h = 0.001      74.999000  0.001333"
            ]
          },
          "metadata": {
            "tags": []
          },
          "execution_count": 109
        }
      ]
    },
    {
      "cell_type": "markdown",
      "metadata": {
        "id": "aQo3jD4ifo1p"
      },
      "source": [
        "# Discución de resultados:\n",
        "\n",
        "Es importanten empezar con el hecho de que dada las condiciones iniciales la ecuación que describe el desplazamiento es:\n",
        "\n",
        "$$x(t)=2.5\\times10^{-3}t^{2}+0.5t$$\n",
        "\n",
        "Por lo que se sabe que el valor verdadero de $v(100s)=75$m. Esto nos lleva a identificar que la principal dificualtad del código fue el proceso de transcribir las ideas \"físicas\" a un algoritmo que permitiera optener los resultados deseados. Una vez que se tenía en claro como expresar la física en algoritmo el proceso se facilitó ya que pasó a un plano de menor abstracción.\n",
        "\n",
        "Como se puede ver de la tabla dada por el pandas DataFrame el porcentaje de error se reduce a menos del 1% con pasar de un step de 1 a 0.1. Estos cálculos se realizan en menos de un segundo por lo que se puede alcanzar una muy buena exactitud con el método planteado sin preocuparse por los tiempos de computación.\n",
        "\n",
        "Por otro lado cabe mencionar Numpy tiene una función llamada trapz (usualmente utilizada como np.trapz()) la cúal implementa el método del trapezoide por lo cual se recomienda el uso de la misma. \n",
        "\n"
      ]
    },
    {
      "cell_type": "markdown",
      "metadata": {
        "id": "ZDzjDlF44Lpp"
      },
      "source": [
        "# 2. Determinar el momento en que un objeto pasa por un punto.\n",
        "> a) Escriba, en pseudocódigo, el procedimiento para implementar el método de\n",
        "Newton-Raphson para encontrar la raíz de una función general f(x).\n",
        "\n",
        "> b) Programe el código respectivo en Python y utilícelo para encontrar el valor\n",
        "del tiempo en que un vehículo que se mueve en línea recta pasa por la posición x = 0.00 m. Utilice que en t = 0.00 s el vehículo se encuentra en x = -5.00\n",
        "m, parte desde el reposo y se mueve con una aceleración de 0.01 m/s2\n",
        "\n",
        "> c) Escoja los parámetros del cálculo numérico de tal manera que la incertidumbre del valor reportado sea menor a un 1 % del valor exacto."
      ]
    },
    {
      "cell_type": "markdown",
      "metadata": {
        "id": "DUyuxsWI2jyA"
      },
      "source": [
        "# Pseudocódigo\n",
        "\n",
        "Se desea implementar el método de Newton-Raphson para el cálculo de una raíz. En específico lo que se desea en este caso particular es encotrar la raíz positiva de la siguiente función:\n",
        "\n",
        "$$x(t)=\\frac{a}{2}t^{2}+x_{0}$$\n",
        "\n",
        "Por medio del siguinte proceso (Newton-Raphson):\n",
        "\n",
        "$$x_{n+1}=x_{n}-\\frac{f(x_{n})}{f^{'}(x_{n})}$$\n",
        "\n",
        "Para implementar este proceso se requiere:\n",
        "\n",
        "1. Generar un array que tenga los coeficientes del polinómio.\n",
        "2. Generar un array que contenga los coeficientes del polinómio derivado.\n",
        "3. Iterar N veces implementado la ecuación anterior, por medio del valor inicial y los coeficientes polinómicos encontrados .\n",
        "4. Evaluar el error.\n",
        "5. Mostrar resultados."
      ]
    },
    {
      "cell_type": "code",
      "metadata": {
        "id": "ib5z9yuGh7Ac"
      },
      "source": [
        "def NewtonRaphson(N,x_ini,a,posicionInicial):\n",
        "  \"\"\"\n",
        "  Esta función calcula las raíces dada una función polinómica por medio del\n",
        "  método Newton Raphson con N iteraciones. \n",
        "  \"\"\"\n",
        "  polinomio = np.poly1d([a/2,0,posicionInicial])\n",
        "  derivadaPol = np.polyder(polinomio)\n",
        "  raizP = polinomio.r[1]\n",
        "\n",
        "  x_k = x_ini\n",
        "  for k in range(N):\n",
        "    x_k = x_k - polinomio(x_k)/derivadaPol(x_k)\n",
        "  error = (abs(x_k-raizP)/raizP) *100\n",
        "  return x_k,x_ini,error"
      ],
      "execution_count": 39,
      "outputs": []
    },
    {
      "cell_type": "code",
      "metadata": {
        "colab": {
          "base_uri": "https://localhost:8080/",
          "height": 201
        },
        "id": "0r8NQilUtsma",
        "outputId": "cb0e0ec2-57ad-4d89-e398-104910e2bc16"
      },
      "source": [
        "\n",
        "a1 = NewtonRaphson(5,5,0.01,-5)\n",
        "a2 = NewtonRaphson(5,10,0.01,-5)\n",
        "a3 = NewtonRaphson(5,15,0.01,-5)\n",
        "a4 = NewtonRaphson(5,20,0.01,-5)\n",
        "a5 = NewtonRaphson(5,60,0.01,-5)\n",
        "tabla = [[a1[0],a1[1],a1[2]],[a2[0],a2[1],a2[2]],[a3[0],a3[1],a3[2]],[a4[0],a4[1],a4[2]],[a5[0],a5[1],a5[2]]]\n",
        "pd.DataFrame(tabla,index=[\"N = 5\",\"N = 5\",\"N = 5\",\"N = 5\",\"N = 5\"], columns=[\"Distancia [m]\",\"Valor Inicial\" ,\"%error\"])"
      ],
      "execution_count": 50,
      "outputs": [
        {
          "output_type": "execute_result",
          "data": {
            "text/html": [
              "<div>\n",
              "<style scoped>\n",
              "    .dataframe tbody tr th:only-of-type {\n",
              "        vertical-align: middle;\n",
              "    }\n",
              "\n",
              "    .dataframe tbody tr th {\n",
              "        vertical-align: top;\n",
              "    }\n",
              "\n",
              "    .dataframe thead th {\n",
              "        text-align: right;\n",
              "    }\n",
              "</style>\n",
              "<table border=\"1\" class=\"dataframe\">\n",
              "  <thead>\n",
              "    <tr style=\"text-align: right;\">\n",
              "      <th></th>\n",
              "      <th>Distancia [m]</th>\n",
              "      <th>Valor Inicial</th>\n",
              "      <th>%error</th>\n",
              "    </tr>\n",
              "  </thead>\n",
              "  <tbody>\n",
              "    <tr>\n",
              "      <th>N = 5</th>\n",
              "      <td>31.625116</td>\n",
              "      <td>5</td>\n",
              "      <td>7.397971e-03</td>\n",
              "    </tr>\n",
              "    <tr>\n",
              "      <th>N = 5</th>\n",
              "      <td>31.622777</td>\n",
              "      <td>10</td>\n",
              "      <td>1.583446e-07</td>\n",
              "    </tr>\n",
              "    <tr>\n",
              "      <th>N = 5</th>\n",
              "      <td>31.622777</td>\n",
              "      <td>15</td>\n",
              "      <td>9.324774e-13</td>\n",
              "    </tr>\n",
              "    <tr>\n",
              "      <th>N = 5</th>\n",
              "      <td>31.622777</td>\n",
              "      <td>20</td>\n",
              "      <td>0.000000e+00</td>\n",
              "    </tr>\n",
              "    <tr>\n",
              "      <th>N = 5</th>\n",
              "      <td>31.622777</td>\n",
              "      <td>60</td>\n",
              "      <td>1.123467e-14</td>\n",
              "    </tr>\n",
              "  </tbody>\n",
              "</table>\n",
              "</div>"
            ],
            "text/plain": [
              "       Distancia [m]  Valor Inicial        %error\n",
              "N = 5      31.625116              5  7.397971e-03\n",
              "N = 5      31.622777             10  1.583446e-07\n",
              "N = 5      31.622777             15  9.324774e-13\n",
              "N = 5      31.622777             20  0.000000e+00\n",
              "N = 5      31.622777             60  1.123467e-14"
            ]
          },
          "metadata": {
            "tags": []
          },
          "execution_count": 50
        }
      ]
    },
    {
      "cell_type": "markdown",
      "metadata": {
        "id": "MP7efTdaCXiy"
      },
      "source": [
        "# Discución de resultados:\n",
        "\n",
        "En este código las complicaciones principales se dan a la hora de determinar la forma en la que se evalua $f$ y $f’$, en este caso con el uso de numpy se simplifica el proceso sin embargo se puede ver la necesidad de implementar diferencias centradas etc. \n",
        "\n",
        "Otro problema es que el método converge de forma distinta dependiendo de la cantidad de iteraciones y el valor inicial, por lo que seleccionar valores iniciales cercanos a la raíz es óptimo. Una vez que se seleccionan valores cercanos a la ráiz el método converge rápido por lo que alcanzar la precisión deseada es sensillo.\n",
        "\n",
        "Por último se puede ver que si se utiliza numpy.poly1d().r se puede encontrar las raíces de un polinómio dado los coeficientes del mismo.\n"
      ]
    }
  ]
}