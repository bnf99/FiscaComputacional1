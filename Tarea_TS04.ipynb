{
  "nbformat": 4,
  "nbformat_minor": 0,
  "metadata": {
    "colab": {
      "name": "Tarea_TS04.ipynb",
      "provenance": [],
      "authorship_tag": "ABX9TyOjIcrTw2+83jID9N5XbVG3",
      "include_colab_link": true
    },
    "kernelspec": {
      "name": "python3",
      "display_name": "Python 3"
    }
  },
  "cells": [
    {
      "cell_type": "markdown",
      "metadata": {
        "id": "view-in-github",
        "colab_type": "text"
      },
      "source": [
        "<a href=\"https://colab.research.google.com/github/bnf99/FiscaComputacional1/blob/main/Tarea_TS04.ipynb\" target=\"_parent\"><img src=\"https://colab.research.google.com/assets/colab-badge.svg\" alt=\"Open In Colab\"/></a>"
      ]
    },
    {
      "cell_type": "markdown",
      "metadata": {
        "id": "iLz8j30u-BtU"
      },
      "source": [
        "# Tarea semana 4: Ecuaciones Diferenciales Ordinarias.\n",
        "## IF4702 - Física computacional 1 \n",
        "\n",
        "### Profesores:\n",
        "> José Esteban Pérez Hidalgo  \n",
        "> Álvaro Amador Jara\n",
        "\n",
        "### Estudiante:\n",
        "> Bryam Gerardo Núñez Flores (2018111986)\n",
        "\n",
        "### Repositorio:\n",
        "> [github.com/bnf99/FiscaComputacional1](https://github.com/bnf99/FiscaComputacional1)"
      ]
    },
    {
      "cell_type": "markdown",
      "metadata": {
        "id": "CWyneHsOLjM4"
      },
      "source": [
        "# Descripción de la tarea:\n",
        "\n",
        "Determinar numéricamente la función que describe la variación de la presión con\n",
        "la altura sobre el nivel del mar, considerando incluso la variación de la temperatura con la altura, utilizando Runge-Kutta de cuarto orden (RK4) y luego con alguna de las implementaciones de Runge-Kutta en\n",
        "la biblioteca Sci.\n",
        "\n",
        "Programe todo el código respectivo en Python y utilícelo para encontrar numéricamente la solución de la presión en función de la altura sobre el nivel del mar, desde $y = 0 m$ hasta $y = 3000m$, separados cada $100.0m$.\n",
        "Considere que M = 28.9647 $g/mol$, que R = 8.314 462 $\\frac{J}{K\\cdot mol}$\n",
        "y que $g = 9.8 m/s^{2}$.\n",
        "\n",
        "# Teoría:\n",
        "\n",
        "La variación de la presión atmosférica ($p$) con la altura sobre el nivel del mar ($y$) se puede modelar considerando una sección rectangular de la atmósfera, que está sujeta a una diferencia de presión en sus caras superior e inferior, que la lleva a estar en equilibrio con su peso. En términos de la densidad de la atmósfera en función de la altura $\\rho(y)$ , se encuentra que:\n",
        "\n",
        "$$\n",
        "\\frac {dp(y)}{dy}=-\\rho(y)g\n",
        "$$\n",
        "\n",
        "La relación entre la densidad de la atmósfera con la altura se puede estimar considerando que el aire se comporta como un gas ideal, de masa molar $M$ a una temperatura $T(y)$, y se llega a obtener que:\n",
        "\n",
        "$$\n",
        "\\rho(y)= \\frac {M}{RT(y)}p(y)\n",
        "$$\n",
        "\n",
        "Se conoce que la disminución de la temperatura con la altura sobre el nivel del mar es de aproximadamente 1.0 °C por cada 200 m de incremento de altura, por lo que si la temperatura a nivel del mar es 20.0 °C (o 293.0 K) se tiene que:\n",
        "\n",
        "$$\n",
        "T(y)=293K - \\frac {y}{200m}\n",
        "$$\n",
        "\n",
        "Utilizando como condición inicial que $p(0) = 101 325.0 Pa.$\n",
        "\n",
        "## Solución Analítica \n",
        "\n",
        "Para resolver este problema de forma anaítica se sigue con:\n",
        "\n",
        "$$\n",
        "\\frac {dp(y)}{dy}=-\\rho(y)g= - \\frac {M}{R\\left(293K - \\frac {y}{200m}\\right)}p(y)g\n",
        "$$\n",
        "\n",
        "$$\n",
        "\\frac {dp(y)}{dy}= - \\frac {200mMg}{R\\left(58600Km - y\\right)}p(y)\n",
        "$$\n",
        "\n",
        "Sea $a= \\frac {200Mg}{R}$ y $b=58600Km$ entonces se tiene:\n",
        "\n",
        "$$\\frac {dp(y)}{dy}= -\\frac{a}{b-y}p(y)$$\n",
        "\n",
        "$$\\frac {dp}{p}= -\\frac{a}{b-y}dy $$\n",
        "\n",
        "$$ln|p|=ln|b-y|^{a}+C_{1}$$\n",
        "\n",
        "$$p=C_{2}(b-y)^{a}$$\n",
        "\n",
        "Utilizando las condiciones iniciales del problema:\n",
        "\n",
        "$$p_{0}=C_{2}b^{a}\\Rightarrow C_{2}=\\frac{p_{0}}{b^{a}}$$\n",
        "\n",
        "Por ende:\n",
        "\n",
        "$$p(y)=\\frac{p_{0}}{b^{a}}(b-y)^{a}=p_{0}\\left (1-\\frac{y}{b}\\right)^{a}$$\n",
        "\n",
        "$$p(y)=p_{0}\\left (1-\\frac{y}{58600Km}\\right)^{\\frac {200mMg}{R}}$$\n",
        "\n",
        "## Solución Numérica\n",
        "\n",
        "Se desea implementar el método de Runge-Kutta de cuarto orden (RK4), el cúal para un problema bien propuesto de valores iniciales sigue que:\n",
        "\n",
        "$\\frac{dy}{dt}=f(t,y)$, para $a\\le t \\le b$, dado $y(a)=\\alpha$\n",
        "\n",
        "donde para un proceso iterativo de $N$ pasos se tiene que:\n",
        "\n",
        "> $h=(b-a)/N$\n",
        "\n",
        "> $y(t+h)=y(t)+\\frac{1}{6}(k_{1}+2k_{2}+2k_{3}+k_{4})$\n",
        "\n",
        ">$k_{1}=hf(y,t)$\n",
        "\n",
        ">$k_{2}=hf(y+\\frac{k_{1}}{2},t+\\frac{h}{2})$\n",
        "\n",
        ">$k_{3}=hf(y+\\frac{k_{2}}{2},t+\\frac{h}{2})$\n",
        "\n",
        ">$k_{4}=hf(y+k_{3},t+h)$\n",
        "\n",
        "En específico se sabe que:\n",
        "\n",
        "1. $h=100m$\n",
        "2.$a=0$ y $b=3000$\n",
        "3. $p(0)=101325Pa$\n",
        "4. $\\frac {dp(y)}{dy}= - \\frac {Mg}{R\\left(293K - \\frac {y}{200m}\\right)}p(y)=f(p,y)$\n",
        "\n",
        "\n"
      ]
    },
    {
      "cell_type": "markdown",
      "metadata": {
        "id": "mxJ0lEumo5aP"
      },
      "source": [
        "# Primera parte, RK4.\n",
        "## Pseudocódigo:\n",
        "\n",
        "Se busca implementar el método RK4 para resolver el problema plantéado en la sección **\"Descripción de la tarea\"**. \n",
        "\n",
        "Por lo que se implementa lo descrito en la **\"Solución numérica\"**. Para esto se realiza:\n",
        "1. Importan las librerías necesarias.\n",
        "2. Luego crea una sección donde se define las constantes del problema como $R$, $g$, $M$ etc. \n",
        "3. Se define una función que describa:\n",
        ">> $\\frac {dp(y)}{dy}= - \\frac {Mg}{R\\left(293K - \\frac {y}{200m}\\right)}p(y)=f(p,y)$\n",
        "4. Una función que realice los cálculos de $RK4$ ($k_{1},k_{2}, p(y+h)$, etc.)"
      ]
    },
    {
      "cell_type": "code",
      "metadata": {
        "id": "mSifMSzn-GZ1"
      },
      "source": [
        "\"\"\"\n",
        "Librerías utilizadas \n",
        "\"\"\"\n",
        "import numpy as np\n",
        "from scipy import constants as cte\n",
        "from scipy import integrate as ode\n",
        "import pandas as pd\n",
        "import matplotlib.pyplot as plt\n"
      ],
      "execution_count": 28,
      "outputs": []
    },
    {
      "cell_type": "code",
      "metadata": {
        "id": "6LVYKQeuAFqU"
      },
      "source": [
        "\"\"\"\n",
        "Constantes del problema\n",
        "\"\"\"\n",
        "cte_R = 8.314462\n",
        "cte_g = 9.8\n",
        "masa_M = 28.9647/1000\n",
        "p_Ini = 101325.0\n",
        "y_Ini = 0\n",
        "y_Final = 3000\n",
        "t_Ini = 293.0\n",
        "dismi_T = 200.0 \n",
        "h = 100\n",
        "intervalo_y = np.arange(y_Ini,y_Final+h,h)\n"
      ],
      "execution_count": 2,
      "outputs": []
    },
    {
      "cell_type": "code",
      "metadata": {
        "id": "kndynOa5bkgH"
      },
      "source": [
        "def Der_Presion (y,P):\n",
        "  \"\"\"\n",
        "  Función que describe la derivada de la presión con respecto a la altura.\n",
        "  \"\"\"\n",
        "  temp = t_Ini - y/dismi_T\n",
        "  f_yp = -1*(masa_M*cte_g*P)/(cte_R*temp)\n",
        "  return f_yp"
      ],
      "execution_count": 3,
      "outputs": []
    },
    {
      "cell_type": "code",
      "metadata": {
        "id": "bQ8fCJ8qwKLs"
      },
      "source": [
        "def RK4(f,intervalo_y,p_Ini):\n",
        "  \"\"\"\n",
        "  Función que realiza la aproximación con RK4.\n",
        "  \"\"\"\n",
        "  p = [p_Ini]\n",
        "  for i in range(len(intervalo_y)-1):\n",
        "    k1 = h*Der_Presion(intervalo_y[i],p[i])\n",
        "    k2 = h*Der_Presion(intervalo_y[i]+k1/2,p[i]+h/2)\n",
        "    k3 = h*Der_Presion(intervalo_y[i]+k2/2,p[i]+h/2)\n",
        "    k4 = h*Der_Presion(intervalo_y[i]+k3,p[i]+h)\n",
        "    p_i = p[i] + (k1+2*k2+2*k3+k4)/6\n",
        "    p.append(p_i)\n",
        "  return np.array(p)\n"
      ],
      "execution_count": 4,
      "outputs": []
    },
    {
      "cell_type": "code",
      "metadata": {
        "colab": {
          "base_uri": "https://localhost:8080/"
        },
        "id": "RChjRqnN1Gpn",
        "outputId": "a3574719-d5a9-40d3-c67c-6626ef321ce5"
      },
      "source": [
        "rk4 = RK4(Der_Presion,intervalo_y,p_Ini)\n",
        "print(rk4)"
      ],
      "execution_count": 12,
      "outputs": [
        {
          "output_type": "stream",
          "text": [
            "[101325.         100155.46859281  98997.36116441  97850.58728256\n",
            "  96715.05704571  95590.68108132  94477.37054408  93375.03711422\n",
            "  92283.59299578  91202.95091486  90133.02411792  89073.72636999\n",
            "  88024.97195293  86986.67566372  85958.75281268  84941.1192217\n",
            "  83933.69122252  82936.38565492  81949.11986498  80971.81170331\n",
            "  80004.37952328  79046.74217921  78098.81902465  77160.52991054\n",
            "  76231.79518346  75312.53568382  74402.67274411  73502.12818705\n",
            "  72610.82432384  71728.68395233  70855.63035525]\n"
          ],
          "name": "stdout"
        }
      ]
    },
    {
      "cell_type": "markdown",
      "metadata": {
        "id": "FIEQKYgdsHZm"
      },
      "source": [
        "# Segunda parte, RK45 (Scipy).\n",
        "\n",
        "## Pseudocódigo:\n",
        "\n",
        "Se solicita implementar alguno de los métodos Runge-Kutta de la biblioteca Scipy. Para esto lo único que se necesita es brindar a la función *solve_ivp* los siguientes argumentos:\n",
        "1. La ecuacción $\\frac {dp(y)}{dy}=f(p,y)$ (previamente definida).\n",
        "2. El intervalo de valores a evaluar ($a$ y $b$, previamente definidos).\n",
        "3. La condición inicial. \n",
        "4. El método a utilizar (RK45).\n",
        "5. El intervalo de alturas a utilizar ($a+ih$, donde $i=1,2,3...N$)\n"
      ]
    },
    {
      "cell_type": "code",
      "metadata": {
        "colab": {
          "base_uri": "https://localhost:8080/"
        },
        "id": "vuGwv86KikLj",
        "outputId": "3cd30199-0f74-45c9-bda1-ba8b33657f11"
      },
      "source": [
        "rk45 = ode.solve_ivp(Der_Presion,[y_Ini,y_Final],[p_Ini], method=\"RK45\", t_eval=intervalo_y)\n",
        "print(rk45.y[0])\n"
      ],
      "execution_count": 6,
      "outputs": [
        {
          "output_type": "stream",
          "text": [
            "[101325.         100150.23522929  98987.1157114   97835.54567531\n",
            "  96695.42997084  95566.67405408  94449.18398737  93342.86636304\n",
            "  92247.62623108  91163.37121398  90090.01075466  89027.45478951\n",
            "  87975.61374837  86934.39855454  85903.72062477  84883.49186927\n",
            "  83873.62469172  82874.03198925  81884.62715242  80905.3240653\n",
            "  79936.03710537  78976.68114358  78027.17154436  77087.42416556\n",
            "  76157.35535851  75236.881968    74325.92133226  73424.39128299\n",
            "  72532.21014535  71649.29673793  70775.57037281]\n"
          ],
          "name": "stdout"
        }
      ]
    },
    {
      "cell_type": "markdown",
      "metadata": {
        "id": "Fe96reOGvHCi"
      },
      "source": [
        "# Tercera parte, porcentajes de error.\n",
        "\n",
        "En esta sección se implementa los resultados verdaderos siguiendo la solución analítica previamente propuesta, esto con el fin de poder calcular el porcentaje de error y poder emitir un criterio sobre los resultados obtenidos."
      ]
    },
    {
      "cell_type": "code",
      "metadata": {
        "id": "o1jtznnV8-5w"
      },
      "source": [
        "def Presion(y):\n",
        "  \"\"\"\n",
        "  Función que describe el cambio de la presión con la altura.\n",
        "  \"\"\"\n",
        "  a = 58600\n",
        "  c = 200*masa_M*cte_g/cte_R\n",
        "  return p_Ini*(1-y/a)**c\n"
      ],
      "execution_count": 7,
      "outputs": []
    },
    {
      "cell_type": "code",
      "metadata": {
        "id": "NkYKLlv7--YX"
      },
      "source": [
        "def DatosVerdaderos(intervalo_y,presion):\n",
        "  \"\"\"\n",
        "  Función que permite calcular el valor real de la presión.\n",
        "  \"\"\"\n",
        "  datos = []\n",
        "  for i in range(len(intervalo_y)):\n",
        "    dato_i = Presion(intervalo_y[i])\n",
        "    datos.append(dato_i)\n",
        "  return intervalo_y,np.array(datos)"
      ],
      "execution_count": 8,
      "outputs": []
    },
    {
      "cell_type": "code",
      "metadata": {
        "colab": {
          "base_uri": "https://localhost:8080/",
          "height": 872
        },
        "id": "urJ6HvIv0xZF",
        "outputId": "4aad8d2c-6c42-49d4-cb4d-824c77a82787"
      },
      "source": [
        "\"\"\"\n",
        "Lineas de código que calcúlan el error de las aproximaciones y grafica P vs Y para cada uno de los métodos.\n",
        "\"\"\"\n",
        "x, y = DatosVerdaderos(intervalo_y,Presion)\n",
        "rk45 = ode.solve_ivp(Der_Presion,[y_Ini,y_Final],[p_Ini], method=\"RK45\", t_eval=intervalo_y)\n",
        "rk4 = RK4(Der_Presion,intervalo_y,p_Ini)\n",
        "diccionario = {\"Valor\":y,\"RK4\":rk4,\"%Error RK4\":abs(rk4-y)/y*100,\"RK45\":rk45.y[0],\"%Error RK45\":abs(rk45.y[0]-y)/y*100}\n",
        "tabla = pd.DataFrame(diccionario)\n",
        "print(tabla)\n",
        "plt.xlabel(\"Altura [m]\")\n",
        "plt.ylabel(\"Presión [Pa]\")\n",
        "plt.title(\"Presión vs altura\")\n",
        "plt.plot(x,y, \"+b\")\n",
        "plt.plot(x,rk4,\"+g\")\n",
        "plt.plot(x,rk45.y[0], \"+r\")\n",
        "plt.legend([\"P\",\"P_RK4\", \"P_RK45\"], fontsize=10)\n",
        "\n",
        "\n",
        "\n",
        "\n"
      ],
      "execution_count": 60,
      "outputs": [
        {
          "output_type": "stream",
          "text": [
            "            Valor            RK4  %Error RK4           RK45   %Error RK45\n",
            "0   101325.000000  101325.000000    0.000000  101325.000000  0.000000e+00\n",
            "1   100150.235232  100155.468593    0.005226  100150.235229  2.267681e-09\n",
            "2    98987.115737   98997.361164    0.010350   98987.115711  2.551021e-08\n",
            "3    97835.545722   97850.587283    0.015374   97835.545675  4.756416e-08\n",
            "4    96695.430020   96715.057046    0.020298   96695.429971  5.037961e-08\n",
            "5    95566.674085   95590.681081    0.025121   95566.674054  3.237939e-08\n",
            "6    94449.183993   94477.370544    0.029843   94449.183987  6.261260e-09\n",
            "7    93342.866436   93375.037114    0.034465   93342.866363  7.834977e-08\n",
            "8    92247.628719   92283.592996    0.038987   92247.626231  2.697345e-06\n",
            "9    91163.378759   91202.950915    0.043408   91163.371214  8.276556e-06\n",
            "10   90090.025080   90133.024118    0.047729   90090.010755  1.590113e-05\n",
            "11   89027.476811   89073.726370    0.051950   89027.454790  2.473554e-05\n",
            "12   87975.643683   88024.971953    0.056070   87975.613748  3.402609e-05\n",
            "13   86934.436026   86986.675664    0.060091   86934.398555  4.310347e-05\n",
            "14   85903.764767   85958.752813    0.064011   85903.720625  5.138532e-05\n",
            "15   84883.541423   84941.119222    0.067832   84883.491869  5.837888e-05\n",
            "16   83873.678105   83933.691223    0.071552   83873.624692  6.368354e-05\n",
            "17   82874.087510   82936.385655    0.075172   82874.031989  6.699355e-05\n",
            "18   81884.682916   81949.119865    0.078692   81884.627152  6.810063e-05\n",
            "19   80905.378188   80971.811703    0.082113   80905.324065  6.689672e-05\n",
            "20   79936.087766   80004.379523    0.085433   79936.037105  6.337663e-05\n",
            "21   78976.726666   79046.742179    0.088653   78976.681144  5.764081e-05\n",
            "22   78027.210478   78098.819025    0.091774   78027.171544  4.989802e-05\n",
            "23   77087.455361   77160.529911    0.094794   77087.424166  4.046814e-05\n",
            "24   76157.378042   76231.795183    0.097715   76157.355359  2.978489e-05\n",
            "25   75236.895811   75312.535684    0.100536   75236.881968  1.839857e-05\n",
            "26   74325.926519   74402.672744    0.103256   74325.921332  6.978902e-06\n",
            "27   73424.388579   73502.128187    0.105877   73424.391283  3.682300e-06\n",
            "28   72532.200957   72610.824324    0.108398   72532.210145  1.266830e-05\n",
            "29   71649.283171   71728.683952    0.110819   71649.296738  1.893469e-05\n",
            "30   70775.555293   70855.630355    0.113139   70775.570373  2.130665e-05\n"
          ],
          "name": "stdout"
        },
        {
          "output_type": "execute_result",
          "data": {
            "text/plain": [
              "<matplotlib.legend.Legend at 0x7f1ee2309210>"
            ]
          },
          "metadata": {
            "tags": []
          },
          "execution_count": 60
        },
        {
          "output_type": "display_data",
          "data": {
            "image/png": "[encoded data removed]",
            "text/plain": [
              "<Figure size 432x288 with 1 Axes>"
            ]
          },
          "metadata": {
            "tags": [],
            "needs_background": "light"
          }
        }
      ]
    },
    {
      "cell_type": "markdown",
      "metadata": {
        "id": "P9VW9g_qw7rg"
      },
      "source": [
        "# Cuarta parte, análisis y discución de resultados.\n",
        "\n",
        "La principal dificultad del código se encuentra en la aritmética de la implementación del método RK4, esto debido a que si no se tiene el cuidado adecuado se obtienen resultados erróneos. \n",
        "\n",
        "Dejando esto de lado podemos ver de la tabla de resultados que se obtuvieron muy buenas aproximaciones por parte de ambos métodos al compararlos con los valores verdaderos. Sin embargo el método RK45 tiene porcentajes de error más bajos que el método RK4 implementado, esto se explica debido a que el método RK45 es una mejora al método RK4 dado a que los intervalos h varían para reducir el error.\n",
        "\n",
        "De esta forma viendo que el porcentaje de error del método RK45 es $2.130665e-05$ % podemos ver que en realidad no hay una necesidad de encontrar la solución analítica dado a que el valor aproximado es muy exacto. \n",
        "\n",
        "Al graficar las tres curvas (analítica, RK4, RK45) podemos ver que las diferencias son tan pequeñas que parece que solo se tiene una curva cuando en realidad se tienen tres, esto nos muestra de manera gráfica la efectividad de los métodos implementados.\n",
        "\n",
        "Por último el modelo físico implementado parce ser correcto para alturas pequeñas sin embargo si quisieramos un modelo más general deberíamos analizar como cambia $M$, $g$, $T$ para alturas más grandes al igual que considerar un modelo más complejo que el de gas ideal.\n"
      ]
    }
  ]
}