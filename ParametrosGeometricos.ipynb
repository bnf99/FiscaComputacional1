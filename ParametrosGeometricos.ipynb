{
 "cells": [
  {
   "cell_type": "markdown",
   "metadata": {
    "id": "fBfLKRvnl8Ji"
   },
   "source": [
    "# Área, perímetro, área envolvente y volumen de superficies magnéticas.\n",
    "\n",
    "En  este código se busca encontrar el área, perímetro, área envolvente y volúmen del plasma dentro del SCR-1.\n",
    "\n",
    "![all text](https://drive.google.com/uc?id=1nvD4SaG-oukfnTd5L9s78LTn8LkDu1aP)\n",
    "\n",
    "Específicamente se quiere encontrar estas características en superficies magnéticas con formas similares a (toropath0085):\n",
    "\n",
    "![all text](https://drive.google.com/uc?id=1aRuJhI7miOOtj-a09DLsF8bGaUtC9BFv)\n",
    "\n",
    "Que forman parte del siguiente conjunto de superficies, dado un ángulo toroidal:\n",
    "\n",
    "![all text](https://drive.google.com/uc?id=1fFSVerSQGhsiPQ3at5hxKsHsp81GVv4A)\n",
    "\n",
    "\n",
    "\n"
   ]
  },
  {
   "cell_type": "code",
   "execution_count": 47,
   "metadata": {
    "id": "_wqQjHrYIQRu"
   },
   "outputs": [],
   "source": [
    "import numpy as np\n",
    "import os\n",
    "import matplotlib.pyplot as plt"
   ]
  },
  {
   "cell_type": "code",
   "execution_count": 48,
   "metadata": {
    "id": "zaYncrgXIVnS"
   },
   "outputs": [],
   "source": [
    "archivo =\"C:/Users/Dell/Estudiantes ITCR/Team Channel - Top Secret/Codes/resultstoroidal/torpath0085.txt\" # Toropath0085\n",
    "carpeta = \"C:/Users/Dell/Estudiantes ITCR/Team Channel - Top Secret/Codes/resultstoroidal/\"\n",
    "angulo = 0"
   ]
  },
  {
   "cell_type": "markdown",
   "metadata": {
    "id": "W7QSmzOTFfUZ"
   },
   "source": [
    "## Cálculo del Área\n",
    "\n",
    "En este método se cálcula el área de la última superficie de contorno del plasma, no obstante se puede aplicar el método a otras superficies internas excluyendo unicamente a superficies altamente irregulares como lo son las islas magnéticas.\n",
    "\n",
    "Lo que se realiza consta de:\n",
    "\n",
    "> Obtener los datos en coordenadas [R,z].\n",
    "\n",
    "> Separar los datos en z positivos y negativos.\n",
    "\n",
    "> Ordenar los datos en orden de R ascendente, tanto positivos como negativos.\n",
    "\n",
    "> Generar una ecuación de mejor ajuste paras los datos positivos y negativos.\n",
    "\n",
    "> Integrar y evaluar las ecuaciones de mejor ajuste para obtener el área.\n",
    "\n",
    "> Validar con el método del trapecio."
   ]
  },
  {
   "cell_type": "code",
   "execution_count": 49,
   "metadata": {
    "id": "nN014zQLIEAo"
   },
   "outputs": [],
   "source": [
    "def DatosPositivosNegativos(archivo, angulo):\n",
    "    angulo_rad = angulo*np.pi/180\n",
    "    dphi = 0.01\n",
    "    phi_up = angulo_rad + dphi/2\n",
    "    phi_down = angulo_rad - dphi/2\n",
    "    R0 = 0.2477 #Radio característico del SCR-1\n",
    "    data = np.loadtxt(archivo,skiprows=2, delimiter='\\t')\n",
    "    Coord = []\n",
    "    iRange, _ = data.shape\n",
    "\n",
    "    #Datos con Bphi\n",
    "    for i in range(iRange):\n",
    "        if data[i,1] > phi_down and data[i,1] < phi_up:\n",
    "            rtor = data[i,0]\n",
    "            thetator = data[i,2]\n",
    "            R = R0+rtor*np.cos(thetator)\n",
    "            z = rtor*np.sin(thetator)\n",
    "            Coord.append([R,z])\n",
    "    Coord.sort(key = lambda x:x[0])\n",
    "    \n",
    "    #Datos positivos y negativos\n",
    "    datos = np.array(Coord)\n",
    "    datos_p = []\n",
    "    datos_n = []\n",
    "\n",
    "    for i in range(len(datos)):\n",
    "        if datos[i,1]>0:\n",
    "            datos_p.append(datos[i])\n",
    "        else:\n",
    "            datos_n.append(datos[i])\n",
    "    return np.array(datos_p),np.array(datos_n)"
   ]
  },
  {
   "cell_type": "code",
   "execution_count": 50,
   "metadata": {
    "id": "4RoXRyyMKrhj"
   },
   "outputs": [],
   "source": [
    "def AreaPolinomios(archivo,angulo):\n",
    "    PolyP, PolyN = DatosPositivosNegativos(archivo, angulo)\n",
    "\n",
    "\n",
    "    fit_PolyP = np.polyfit(PolyP[:,0],PolyP[:,1],deg=50)\n",
    "    fit_PolyN = np.polyfit(PolyN[:,0],PolyN[:,1], deg=50)\n",
    "\n",
    "\n",
    "    areaP = np.polyval(np.polyint(fit_PolyP), np.max(PolyP[:,0])) - np.polyval(np.polyint(fit_PolyP), np.min(PolyP[:, 0]))\n",
    "    areaN = -1*(np.polyval(np.polyint(fit_PolyN), np.max(PolyN[:,0])) - np.polyval(np.polyint(fit_PolyN), np.min(PolyN[:, 0])))\n",
    "\n",
    "    area = areaP + areaN\n",
    "    plt.plot(PolyP[:,0],PolyP[:,1])\n",
    "    plt.plot(PolyN[:,0],PolyN[:,1])\n",
    "    plt.ylabel(\"z [m]\")\n",
    "    plt.xlabel(\"R [m]\")\n",
    "    plt.title(\"z vs R, ángulo =\"+str(angulo)+\"º\")\n",
    "    plt.text(0.22,0.06, \"Área=\"+\"{0:.4f}\".format(area))\n",
    "    plt.show\n",
    "    \n",
    "    return area"
   ]
  },
  {
   "cell_type": "code",
   "execution_count": 51,
   "metadata": {
    "colab": {
     "base_uri": "https://localhost:8080/",
     "height": 380
    },
    "id": "VW7BrA4JTY1Q",
    "outputId": "34424453-4e10-4471-e81a-1132373c1f31"
   },
   "outputs": [
    {
     "name": "stderr",
     "output_type": "stream",
     "text": [
      "<ipython-input-51-ff9ffdc8bf45>:1: RankWarning: Polyfit may be poorly conditioned\n",
      "  AreaPolinomios(archivo, 270)\n",
      "<ipython-input-51-ff9ffdc8bf45>:1: RankWarning: Polyfit may be poorly conditioned\n",
      "  AreaPolinomios(archivo, 270)\n"
     ]
    },
    {
     "data": {
      "text/plain": [
       "0.0060745636583305895"
      ]
     },
     "execution_count": 51,
     "metadata": {},
     "output_type": "execute_result"
    },
    {
     "data": {
      "image/png": "[encoded data removed]",
      "text/plain": [
       "<Figure size 432x288 with 1 Axes>"
      ]
     },
     "metadata": {
      "needs_background": "light"
     },
     "output_type": "display_data"
    }
   ],
   "source": [
    "AreaPolinomios(archivo, 270)"
   ]
  },
  {
   "cell_type": "code",
   "execution_count": 52,
   "metadata": {
    "id": "w1TwpkiFaLac"
   },
   "outputs": [],
   "source": [
    "def AreaTrapz(archivo,angulo):\n",
    "    datosP, datosN = DatosPositivosNegativos(archivo,angulo)\n",
    "\n",
    "    areaP = np.trapz(datosP[:,1],datosP[:,0])\n",
    "    areaN = -1*(np.trapz(datosN[:,1],datosN[:,0]))\n",
    "\n",
    "    area = areaP+areaN\n",
    "\n",
    "    #plt.plot(datosP[:,0],datosP[:,1])\n",
    "    #plt.plot(datosN[:,0],datosN[:,1])\n",
    "    #plt.ylabel(\"z [m]\")\n",
    "    #plt.xlabel(\"R [m]\")\n",
    "    #plt.title(\"z vs R, ángulo =\"+str(angulo)+\"º\")\n",
    "    #plt.text(0.22,0.06, \"Área=\"+\"{0:.4f}\".format(area))\n",
    "    #plt.show()\n",
    "    return area"
   ]
  },
  {
   "cell_type": "code",
   "execution_count": 53,
   "metadata": {
    "colab": {
     "base_uri": "https://localhost:8080/",
     "height": 312
    },
    "id": "jpq8r3bXcsJP",
    "outputId": "fa4e75a2-6840-430f-afc2-cf36de3620ef"
   },
   "outputs": [
    {
     "data": {
      "text/plain": [
       "0.005686474508435565"
      ]
     },
     "execution_count": 53,
     "metadata": {},
     "output_type": "execute_result"
    }
   ],
   "source": [
    "AreaTrapz(archivo,300)"
   ]
  },
  {
   "cell_type": "markdown",
   "metadata": {
    "id": "0tJw3dkreGBN"
   },
   "source": [
    "## Cálculo del Perímetro\n",
    "\n",
    "En este método se cálcula el perímetro de la última superficie de contorno del plasma, no obstante se puede aplicar el método a otras superficies internas excluyendo unicamente a superficies altamente irregulares como lo son las islas magnéticas.\n",
    "\n",
    "Lo que se realiza consta de:\n",
    "\n",
    "> Obtener los datos en coordenadas [R,z].\n",
    "\n",
    "> Separar los datos en z positivos y negativos.\n",
    "\n",
    "> Ordenar los datos en orden de R ascendente, tanto positivos como negativos.\n",
    "\n",
    "> Encontrar la distancia entre puntos adyacentes\n",
    "\n",
    "> Iterar para encontra el perímetro\n"
   ]
  },
  {
   "cell_type": "code",
   "execution_count": 54,
   "metadata": {
    "id": "oqiYQW_jAHfD"
   },
   "outputs": [],
   "source": [
    "def DatosPerimetro(archivo, angulo):\n",
    "    angulo_rad = angulo*np.pi/180\n",
    "    dphi = 0.01\n",
    "    phi_up = angulo_rad + dphi/2\n",
    "    phi_down = angulo_rad - dphi/2\n",
    "    R0 = 0.2477 #Radio característico del SCR-1\n",
    " \n",
    "    data = np.loadtxt(archivo,skiprows=2, delimiter='\\t')\n",
    "    Coord = []\n",
    "    iRange, _ = data.shape\n",
    "\n",
    "    #Datos con Bphi\n",
    "    for i in range(iRange):\n",
    "        if data[i,1] > phi_down and data[i,1] < phi_up:\n",
    "            rtor = data[i,0]\n",
    "            thetator = data[i,2]\n",
    "            R = R0+rtor*np.cos(thetator)\n",
    "            z = rtor*np.sin(thetator)\n",
    "            Coord.append([R,z,thetator])\n",
    "    Coord.sort(key = lambda x:x[2], reverse= True)\n",
    "    \n",
    "    #Datos positivos y negativos\n",
    "    datos = np.array(Coord)\n",
    "    datos_p = []\n",
    "    datos_n = []\n",
    "\n",
    "    for i in range(len(datos)):\n",
    "        if datos[i,1]>0:\n",
    "            datos_p.append(datos[i])\n",
    "        else:\n",
    "            datos_n.append(datos[i])\n",
    "    return np.array(datos_p),np.array(datos_n)"
   ]
  },
  {
   "cell_type": "code",
   "execution_count": 55,
   "metadata": {
    "id": "7fDj2N-_fHRL"
   },
   "outputs": [],
   "source": [
    "def Perimetro(archivo,angulo):\n",
    "    datosP, datosN = DatosPerimetro(archivo,angulo)\n",
    "\n",
    "    perimetroP = 0\n",
    "    for i in range(1,len(datosP)):\n",
    "        dr_i = datosP[i,0]-datosP[i-1,0]\n",
    "        dz_i = datosP[i,1]-datosP[i-1,1]\n",
    "        dp_i = np.sqrt((dr_i)**2+(dz_i)**2)\n",
    "        perimetroP = perimetroP + dp_i\n",
    "\n",
    "    perimetroN = 0\n",
    "    for j in range(1, len(datosN)):\n",
    "        dr_j = datosN[j,0]-datosN[j-1,0]\n",
    "        dz_j = datosN[j,1]-datosN[j-1,1]\n",
    "        dp_j = np.sqrt(dr_j**2+dz_j**2)\n",
    "        perimetroN = perimetroN + dp_j\n",
    "\n",
    "    perimetro = perimetroP + perimetroN\n",
    "\n",
    "    return perimetro"
   ]
  },
  {
   "cell_type": "code",
   "execution_count": 56,
   "metadata": {
    "id": "aM-xw1IsZNBR"
   },
   "outputs": [
    {
     "data": {
      "text/plain": [
       "0.36831786427457963"
      ]
     },
     "execution_count": 56,
     "metadata": {},
     "output_type": "execute_result"
    }
   ],
   "source": [
    "Perimetro(archivo,15)"
   ]
  },
  {
   "cell_type": "markdown",
   "metadata": {
    "id": "Dx5cc7tXkiGw"
   },
   "source": [
    "## Área envolvente \n",
    "\n",
    "En este caso se busca encontrar el área de la superficie externa de la \"dona\" o toroide que se caracteriza por la última superficie de contorno, el código también es válido para superficies internas a excepsión de las islas magnéticas.\n",
    "\n",
    "La idea fundamental detras del cálculo del área envolvente está en los solidos de revolución y el teoréma de Papus y Guldinos que establece que:\n",
    "\n",
    "$$A = \\theta \\widetilde{r}P$$\n",
    "\n",
    "Donde:\n",
    "\n",
    "> $A$ corresponde al área de reovolución.\n",
    "\n",
    "> $\\theta$ es el ángulo de revolución medido en radianes.\n",
    "\n",
    "> $\\widetilde{r}$ es la distancia perpendicular entre el eje de revolución y el centro geométrico de la curva generatriz.\n",
    "\n",
    "> $P$ es el perímetro de curva generatriz.\n",
    "\n",
    "\n",
    "Para este cálculo se sabe que para todas las curvas generatrices $\\widetilde{r}$ correponde al radio característicos del SCR-1.\n",
    "\n",
    "Debido a la naturaleza del problema lo que se busca hacer es una sumatoria de pequeñas áreas de revolución hasta llegar a completar la dona.\n",
    "\n",
    "Dado a que al hacer pequeñas revoluciones no va a haber cambios bruscos en el perímetro se puede generar una buena aproximación al valor verdadero del área de la envolvente. De esta forma se tiene que entre más pequeñas revoluciones se generen, mayor será la exactitud del cálculo.\n",
    "\n",
    "El procedimiento general consiste en:\n",
    "\n",
    "> Hacer áreas de revolución de un grado y sumar todas estas áreas para obtener una aproximación del área total.\n",
    "\n",
    "> Para esto se calcula el perímetro en 0º, 1º, 2º,....,360º \n",
    "\n",
    "> Estos perímtros se multiplican por $(\\pi/180)\\cdot R_{0}$ para generar aumentos de un grado.\n",
    "\n",
    "### Se utiliza la función que calcula el perímetro. "
   ]
  },
  {
   "cell_type": "code",
   "execution_count": 57,
   "metadata": {
    "id": "IDgfGsuos-QQ"
   },
   "outputs": [],
   "source": [
    "def AreaEnvolvente(archivo):\n",
    "    area = 0\n",
    "    theta = np.pi/180\n",
    "    R0 = 0.2477\n",
    "    for angulo in range(360):\n",
    "        p = Perimetro(archivo,angulo)\n",
    "        area = theta*R0*p + area\n",
    "    \n",
    "    return area"
   ]
  },
  {
   "cell_type": "code",
   "execution_count": 58,
   "metadata": {
    "colab": {
     "base_uri": "https://localhost:8080/"
    },
    "id": "QV7Gb_bro7vq",
    "outputId": "db1f1107-8448-41b5-c7ab-537ab09c2049"
   },
   "outputs": [
    {
     "data": {
      "text/plain": [
       "0.5888880684712461"
      ]
     },
     "execution_count": 58,
     "metadata": {},
     "output_type": "execute_result"
    }
   ],
   "source": [
    "AreaEnvolvente(archivo)"
   ]
  },
  {
   "cell_type": "markdown",
   "metadata": {
    "id": "opH-83cisc5l"
   },
   "source": [
    "## Cálculo del volumen\n",
    "\n",
    "En este caso se busca encontrar el volumen determinado por una superficie magnética, preferiblemente dada por la última superficie de contorno no obstante el código también es válido para superficies internas a excepsión de las islas magnéticas.\n",
    "\n",
    "La idea fundamental detras del cálculo del volumen está en los solidos de revolución y el teoréma de Papus y Guldinos que establece que:\n",
    "\n",
    "$$V = \\theta \\widetilde{r}A$$\n",
    "\n",
    "Donde:\n",
    "\n",
    "> $V$ corresponde al volumen de reovolución.\n",
    "\n",
    "> $\\theta$ es el ángulo de revolución medido en radianes.\n",
    "\n",
    "> $\\widetilde{r}$ es la distancia perpendicular entre el eje de revolución y el centro geométrico de la curva generatriz.\n",
    "\n",
    "> $A$ es el área de la curva generatriz.\n",
    "\n",
    "\n",
    "Para este cálculo se sabe que para todas las curvas generatrices $\\widetilde{r}$ correponde al radio característicos del SCR-1.\n",
    "\n",
    "Debido a la naturaleza del problema lo que se busca hacer es una sumatoria de pequeñas volúmenes de revolución hasta llegar a completar el toroide.\n",
    "\n",
    "Dado a que al hacer pequeñas revoluciones no va a haber cambios bruscos en el área se puede generar una buena aproximación al valor verdadero del volumen. De esta forma se tiene que entre más pequeños volúmenes de revoluciones se generen, mayor será la exactitud del cálculo.\n",
    "\n",
    "El procedimiento general consiste en:\n",
    "\n",
    "> Hacer volúmenes de revolución de un grado y sumar todos estos para obtener una aproximación del volumen total.\n",
    "\n",
    "> Para esto se calcula el área en 0º, 1º, 2º,....,360º \n",
    "\n",
    "> Estas áreas se multiplican por $(\\pi/180)\\cdot R_{0}$ para generar aumentos de un grado.\n",
    "\n",
    "### Se utiliza la función que calcula el área. "
   ]
  },
  {
   "cell_type": "code",
   "execution_count": 59,
   "metadata": {
    "id": "0jklxtg0u-y9"
   },
   "outputs": [],
   "source": [
    "def Volumen(archivo):\n",
    "    vol = 0\n",
    "    theta = np.pi/180\n",
    "    R0 = 0.2477\n",
    "    for angulo in range(360):\n",
    "        area = AreaTrapz(archivo,angulo) \n",
    "        vol = theta*R0*area + vol\n",
    "    \n",
    "    return vol"
   ]
  },
  {
   "cell_type": "code",
   "execution_count": 60,
   "metadata": {
    "colab": {
     "base_uri": "https://localhost:8080/"
    },
    "id": "OvE_7UPYw4JB",
    "outputId": "f25c3543-b0c6-4c77-9456-64a7f42ba1d0"
   },
   "outputs": [
    {
     "data": {
      "text/plain": [
       "0.008506042819360817"
      ]
     },
     "execution_count": 60,
     "metadata": {},
     "output_type": "execute_result"
    }
   ],
   "source": [
    "Volumen(archivo)"
   ]
  }
 ],
 "metadata": {
  "colab": {
   "name": "ParametrosGeometricos.ipynb",
   "provenance": []
  },
  "kernelspec": {
   "display_name": "Python 3",
   "language": "python",
   "name": "python3"
  },
  "language_info": {
   "codemirror_mode": {
    "name": "ipython",
    "version": 3
   },
   "file_extension": ".py",
   "mimetype": "text/x-python",
   "name": "python",
   "nbconvert_exporter": "python",
   "pygments_lexer": "ipython3",
   "version": "3.8.5"
  }
 },
 "nbformat": 4,
 "nbformat_minor": 1
}
